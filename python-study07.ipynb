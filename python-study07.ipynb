{
 "cells": [
  {
   "cell_type": "code",
   "execution_count": 1,
   "metadata": {},
   "outputs": [
    {
     "name": "stdout",
     "output_type": "stream",
     "text": [
      "Life is too short, so you need python.\n"
     ]
    }
   ],
   "source": [
    "# 사용자 입력\n",
    "a = input()"
   ]
  },
  {
   "cell_type": "code",
   "execution_count": 2,
   "metadata": {},
   "outputs": [
    {
     "data": {
      "text/plain": [
       "'Life is too short, so you need python.'"
      ]
     },
     "execution_count": 2,
     "metadata": {},
     "output_type": "execute_result"
    }
   ],
   "source": [
    "a"
   ]
  },
  {
   "cell_type": "code",
   "execution_count": 3,
   "metadata": {},
   "outputs": [
    {
     "name": "stdout",
     "output_type": "stream",
     "text": [
      "숫자를 입력하세요: 3\n"
     ]
    }
   ],
   "source": [
    "number = input(\"숫자를 입력하세요: \")"
   ]
  },
  {
   "cell_type": "code",
   "execution_count": 4,
   "metadata": {},
   "outputs": [
    {
     "name": "stdout",
     "output_type": "stream",
     "text": [
      "3\n"
     ]
    }
   ],
   "source": [
    "print(number)"
   ]
  },
  {
   "cell_type": "code",
   "execution_count": 5,
   "metadata": {},
   "outputs": [
    {
     "name": "stdout",
     "output_type": "stream",
     "text": [
      "lifeistoo short\n",
      "lifeistoo short\n"
     ]
    }
   ],
   "source": [
    "# print() 사용법\n",
    "print(\"life\" \"is\" \"too short\")\n",
    "print(\"life\"+\"is\"+\"too short\")"
   ]
  },
  {
   "cell_type": "code",
   "execution_count": 6,
   "metadata": {},
   "outputs": [
    {
     "name": "stdout",
     "output_type": "stream",
     "text": [
      "life is too short\n",
      "life is too short\n"
     ]
    }
   ],
   "source": [
    "# print() 사용법\n",
    "print(\"life\",\"is\",\"too short\")\n",
    "print(\"life is too short\")"
   ]
  },
  {
   "cell_type": "code",
   "execution_count": 7,
   "metadata": {},
   "outputs": [
    {
     "name": "stdout",
     "output_type": "stream",
     "text": [
      "0 1 2 3 4 5 6 7 8 9 "
     ]
    }
   ],
   "source": [
    "# print() 한 줄에 출력하기\n",
    "for i in range(10):\n",
    "    print(i, end=' ')"
   ]
  },
  {
   "cell_type": "code",
   "execution_count": 9,
   "metadata": {},
   "outputs": [],
   "source": [
    "# 파일 열기\n",
    "# 열기 모드: 'r'=읽기모드, 'w'=쓰기모드, 'a'= 추가모드\n",
    "f = open(\"D:/projects/python-study/새파일.txt\", 'w')\n",
    "f.close()"
   ]
  },
  {
   "cell_type": "code",
   "execution_count": 12,
   "metadata": {},
   "outputs": [],
   "source": [
    "f = open(\"D:/projects/python-study/새파일.txt\", 'w')\n",
    "for i in range(1, 11):\n",
    "    data = \"The %d-th line.\\n\" % i\n",
    "    f.write(data)\n",
    "f.close()"
   ]
  },
  {
   "cell_type": "code",
   "execution_count": 13,
   "metadata": {},
   "outputs": [
    {
     "name": "stdout",
     "output_type": "stream",
     "text": [
      "The 1-th line.\n",
      "\n",
      "The 2-th line.\n",
      "\n",
      "The 3-th line.\n",
      "\n",
      "The 4-th line.\n",
      "\n",
      "The 5-th line.\n",
      "\n",
      "The 6-th line.\n",
      "\n",
      "The 7-th line.\n",
      "\n",
      "The 8-th line.\n",
      "\n",
      "The 9-th line.\n",
      "\n",
      "The 10-th line.\n",
      "\n"
     ]
    }
   ],
   "source": [
    "f = open(\"D:/projects/python-study/새파일.txt\", 'r')\n",
    "while True:\n",
    "    line = f.readline()\n",
    "    if not line: break\n",
    "    print(line)\n",
    "f.close()"
   ]
  },
  {
   "cell_type": "code",
   "execution_count": 14,
   "metadata": {},
   "outputs": [
    {
     "name": "stdout",
     "output_type": "stream",
     "text": [
      "The 1-th line.\n",
      "\n",
      "The 2-th line.\n",
      "\n",
      "The 3-th line.\n",
      "\n",
      "The 4-th line.\n",
      "\n",
      "The 5-th line.\n",
      "\n",
      "The 6-th line.\n",
      "\n",
      "The 7-th line.\n",
      "\n",
      "The 8-th line.\n",
      "\n",
      "The 9-th line.\n",
      "\n",
      "The 10-th line.\n",
      "\n"
     ]
    }
   ],
   "source": [
    "f = open(\"D:/projects/python-study/새파일.txt\", 'r')\n",
    "lines = f.readlines()\n",
    "for line in lines:\n",
    "    print(line)\n",
    "f.close()"
   ]
  },
  {
   "cell_type": "code",
   "execution_count": 15,
   "metadata": {},
   "outputs": [
    {
     "name": "stdout",
     "output_type": "stream",
     "text": [
      "The 1-th line.\n",
      "The 2-th line.\n",
      "The 3-th line.\n",
      "The 4-th line.\n",
      "The 5-th line.\n",
      "The 6-th line.\n",
      "The 7-th line.\n",
      "The 8-th line.\n",
      "The 9-th line.\n",
      "The 10-th line.\n",
      "\n"
     ]
    }
   ],
   "source": [
    "f = open(\"D:/projects/python-study/새파일.txt\", 'r')\n",
    "data = f.read()\n",
    "print(data)\n",
    "f.close()"
   ]
  },
  {
   "cell_type": "code",
   "execution_count": null,
   "metadata": {},
   "outputs": [],
   "source": [
    "# f = open(\"D:/projects/python-study/새파일2.txt\", 'r')\n",
    "# f.write(\"Oops!\")\n",
    "# f.close()\n",
    "# 위의 주석 구문은 아래와 완전히 동일\n",
    "with open(\"D:/projects/python-study/새파일2.txt\", 'r') as f:\n",
    "    f. write(\"Oops!\")"
   ]
  }
 ],
 "metadata": {
  "kernelspec": {
   "display_name": "Python 3",
   "language": "python",
   "name": "python3"
  },
  "language_info": {
   "codemirror_mode": {
    "name": "ipython",
    "version": 3
   },
   "file_extension": ".py",
   "mimetype": "text/x-python",
   "name": "python",
   "nbconvert_exporter": "python",
   "pygments_lexer": "ipython3",
   "version": "3.6.2"
  }
 },
 "nbformat": 4,
 "nbformat_minor": 2
}
